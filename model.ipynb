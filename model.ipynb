{
 "cells": [
  {
   "cell_type": "markdown",
   "id": "976e1c84",
   "metadata": {},
   "source": [
    "## Teil 3.1: Teilaufgabe 3\n"
   ]
  },
  {
   "cell_type": "markdown",
   "id": "f1638b17",
   "metadata": {},
   "source": [
    "# 3.1) Einteilung in ein train und testdatenset"
   ]
  },
  {
   "cell_type": "code",
   "execution_count": 1,
   "id": "2ba9b1c5",
   "metadata": {},
   "outputs": [
    {
     "name": "stdout",
     "output_type": "stream",
     "text": [
      "Requirement already satisfied: sklearn in c:\\python310\\lib\\site-packages (0.0)\n",
      "Requirement already satisfied: scikit-learn in c:\\python310\\lib\\site-packages (from sklearn) (1.0.2)\n",
      "Requirement already satisfied: threadpoolctl>=2.0.0 in c:\\python310\\lib\\site-packages (from scikit-learn->sklearn) (3.1.0)\n",
      "Requirement already satisfied: scipy>=1.1.0 in c:\\python310\\lib\\site-packages (from scikit-learn->sklearn) (1.8.0)\n",
      "Requirement already satisfied: numpy>=1.14.6 in c:\\python310\\lib\\site-packages (from scikit-learn->sklearn) (1.22.3)\n",
      "Requirement already satisfied: joblib>=0.11 in c:\\python310\\lib\\site-packages (from scikit-learn->sklearn) (1.1.0)\n"
     ]
    },
    {
     "name": "stderr",
     "output_type": "stream",
     "text": [
      "WARNING: Ignoring invalid distribution -p (c:\\python310\\lib\\site-packages)\n",
      "WARNING: Ignoring invalid distribution -p (c:\\python310\\lib\\site-packages)\n",
      "WARNING: Ignoring invalid distribution -ip (c:\\python310\\lib\\site-packages)\n",
      "WARNING: Ignoring invalid distribution - (c:\\python310\\lib\\site-packages)\n",
      "WARNING: Ignoring invalid distribution -p (c:\\python310\\lib\\site-packages)\n",
      "WARNING: Ignoring invalid distribution -p (c:\\python310\\lib\\site-packages)\n",
      "WARNING: Ignoring invalid distribution -ip (c:\\python310\\lib\\site-packages)\n",
      "WARNING: Ignoring invalid distribution - (c:\\python310\\lib\\site-packages)\n",
      "WARNING: Ignoring invalid distribution -p (c:\\python310\\lib\\site-packages)\n",
      "WARNING: Ignoring invalid distribution -p (c:\\python310\\lib\\site-packages)\n",
      "WARNING: Ignoring invalid distribution -ip (c:\\python310\\lib\\site-packages)\n",
      "WARNING: Ignoring invalid distribution - (c:\\python310\\lib\\site-packages)\n",
      "WARNING: Ignoring invalid distribution -p (c:\\python310\\lib\\site-packages)\n",
      "WARNING: Ignoring invalid distribution -p (c:\\python310\\lib\\site-packages)\n",
      "WARNING: Ignoring invalid distribution -ip (c:\\python310\\lib\\site-packages)\n",
      "WARNING: Ignoring invalid distribution - (c:\\python310\\lib\\site-packages)\n",
      "WARNING: Ignoring invalid distribution -p (c:\\python310\\lib\\site-packages)\n",
      "WARNING: Ignoring invalid distribution -p (c:\\python310\\lib\\site-packages)\n",
      "WARNING: Ignoring invalid distribution -ip (c:\\python310\\lib\\site-packages)\n",
      "WARNING: Ignoring invalid distribution - (c:\\python310\\lib\\site-packages)\n",
      "WARNING: Ignoring invalid distribution -p (c:\\python310\\lib\\site-packages)\n",
      "WARNING: Ignoring invalid distribution -p (c:\\python310\\lib\\site-packages)\n",
      "WARNING: Ignoring invalid distribution -ip (c:\\python310\\lib\\site-packages)\n",
      "WARNING: Ignoring invalid distribution - (c:\\python310\\lib\\site-packages)\n",
      "WARNING: You are using pip version 21.2.4; however, version 22.0.4 is available.\n",
      "You should consider upgrading via the 'C:\\Python310\\python.exe -m pip install --upgrade pip' command.\n"
     ]
    },
    {
     "name": "stdout",
     "output_type": "stream",
     "text": [
      "Requirement already satisfied: pandas in c:\\python310\\lib\\site-packages (1.4.1)\n",
      "Requirement already satisfied: pytz>=2020.1 in c:\\python310\\lib\\site-packages (from pandas) (2022.1)\n",
      "Requirement already satisfied: python-dateutil>=2.8.1 in c:\\python310\\lib\\site-packages (from pandas) (2.8.2)\n",
      "Requirement already satisfied: numpy>=1.21.0 in c:\\python310\\lib\\site-packages (from pandas) (1.22.3)\n",
      "Requirement already satisfied: six>=1.5 in c:\\python310\\lib\\site-packages (from python-dateutil>=2.8.1->pandas) (1.16.0)\n"
     ]
    },
    {
     "name": "stderr",
     "output_type": "stream",
     "text": [
      "WARNING: Ignoring invalid distribution -p (c:\\python310\\lib\\site-packages)\n",
      "WARNING: Ignoring invalid distribution -p (c:\\python310\\lib\\site-packages)\n",
      "WARNING: Ignoring invalid distribution -ip (c:\\python310\\lib\\site-packages)\n",
      "WARNING: Ignoring invalid distribution - (c:\\python310\\lib\\site-packages)\n",
      "WARNING: Ignoring invalid distribution -p (c:\\python310\\lib\\site-packages)\n",
      "WARNING: Ignoring invalid distribution -p (c:\\python310\\lib\\site-packages)\n",
      "WARNING: Ignoring invalid distribution -ip (c:\\python310\\lib\\site-packages)\n",
      "WARNING: Ignoring invalid distribution - (c:\\python310\\lib\\site-packages)\n",
      "WARNING: Ignoring invalid distribution -p (c:\\python310\\lib\\site-packages)\n",
      "WARNING: Ignoring invalid distribution -p (c:\\python310\\lib\\site-packages)\n",
      "WARNING: Ignoring invalid distribution -ip (c:\\python310\\lib\\site-packages)\n",
      "WARNING: Ignoring invalid distribution - (c:\\python310\\lib\\site-packages)\n",
      "WARNING: Ignoring invalid distribution -p (c:\\python310\\lib\\site-packages)\n",
      "WARNING: Ignoring invalid distribution -p (c:\\python310\\lib\\site-packages)\n",
      "WARNING: Ignoring invalid distribution -ip (c:\\python310\\lib\\site-packages)\n",
      "WARNING: Ignoring invalid distribution - (c:\\python310\\lib\\site-packages)\n",
      "WARNING: Ignoring invalid distribution -p (c:\\python310\\lib\\site-packages)\n",
      "WARNING: Ignoring invalid distribution -p (c:\\python310\\lib\\site-packages)\n",
      "WARNING: Ignoring invalid distribution -ip (c:\\python310\\lib\\site-packages)\n",
      "WARNING: Ignoring invalid distribution - (c:\\python310\\lib\\site-packages)\n",
      "WARNING: Ignoring invalid distribution -p (c:\\python310\\lib\\site-packages)\n",
      "WARNING: Ignoring invalid distribution -p (c:\\python310\\lib\\site-packages)\n",
      "WARNING: Ignoring invalid distribution -ip (c:\\python310\\lib\\site-packages)\n",
      "WARNING: Ignoring invalid distribution - (c:\\python310\\lib\\site-packages)\n",
      "WARNING: You are using pip version 21.2.4; however, version 22.0.4 is available.\n",
      "You should consider upgrading via the 'C:\\Python310\\python.exe -m pip install --upgrade pip' command.\n"
     ]
    }
   ],
   "source": [
    "# Installation wichtiger Hilfestelungen\n",
    "!pip install sklearn\n",
    "!pip install pandas"
   ]
  },
  {
   "cell_type": "code",
   "execution_count": 2,
   "id": "f2069d79",
   "metadata": {},
   "outputs": [
    {
     "data": {
      "text/html": [
       "<div>\n",
       "<style scoped>\n",
       "    .dataframe tbody tr th:only-of-type {\n",
       "        vertical-align: middle;\n",
       "    }\n",
       "\n",
       "    .dataframe tbody tr th {\n",
       "        vertical-align: top;\n",
       "    }\n",
       "\n",
       "    .dataframe thead th {\n",
       "        text-align: right;\n",
       "    }\n",
       "</style>\n",
       "<table border=\"1\" class=\"dataframe\">\n",
       "  <thead>\n",
       "    <tr style=\"text-align: right;\">\n",
       "      <th></th>\n",
       "      <th>Age</th>\n",
       "      <th>Height</th>\n",
       "      <th>Weight</th>\n",
       "      <th>Collegue</th>\n",
       "      <th>draft year</th>\n",
       "    </tr>\n",
       "  </thead>\n",
       "  <tbody>\n",
       "    <tr>\n",
       "      <th>0</th>\n",
       "      <td>22</td>\n",
       "      <td>213.36</td>\n",
       "      <td>106.59412</td>\n",
       "      <td>Connecticut</td>\n",
       "      <td>1996.0</td>\n",
       "    </tr>\n",
       "    <tr>\n",
       "      <th>1</th>\n",
       "      <td>27</td>\n",
       "      <td>210.82</td>\n",
       "      <td>106.59412</td>\n",
       "      <td>North Carolina-Wilmington</td>\n",
       "      <td>1992.0</td>\n",
       "    </tr>\n",
       "    <tr>\n",
       "      <th>2</th>\n",
       "      <td>30</td>\n",
       "      <td>208.28</td>\n",
       "      <td>106.59412</td>\n",
       "      <td>Iowa</td>\n",
       "      <td>NaN</td>\n",
       "    </tr>\n",
       "    <tr>\n",
       "      <th>3</th>\n",
       "      <td>29</td>\n",
       "      <td>210.82</td>\n",
       "      <td>111.13004</td>\n",
       "      <td>Providence</td>\n",
       "      <td>NaN</td>\n",
       "    </tr>\n",
       "    <tr>\n",
       "      <th>4</th>\n",
       "      <td>22</td>\n",
       "      <td>205.74</td>\n",
       "      <td>106.59412</td>\n",
       "      <td>NaN</td>\n",
       "      <td>1996.0</td>\n",
       "    </tr>\n",
       "  </tbody>\n",
       "</table>\n",
       "</div>"
      ],
      "text/plain": [
       "   Age  Height     Weight                   Collegue  draft year\n",
       "0   22  213.36  106.59412                Connecticut      1996.0\n",
       "1   27  210.82  106.59412  North Carolina-Wilmington      1992.0\n",
       "2   30  208.28  106.59412                       Iowa         NaN\n",
       "3   29  210.82  111.13004                 Providence         NaN\n",
       "4   22  205.74  106.59412                        NaN      1996.0"
      ]
     },
     "execution_count": 2,
     "metadata": {},
     "output_type": "execute_result"
    }
   ],
   "source": [
    "import pandas as pd\n",
    "datasetNBA = pd.read_csv(\"259_Database_NBA.csv\", on_bad_lines=\"skip\", sep=\";\")\n",
    "datasetNBA.head()"
   ]
  },
  {
   "cell_type": "markdown",
   "id": "78956c1a",
   "metadata": {},
   "source": [
    "##  Vorbereitung\n"
   ]
  },
  {
   "cell_type": "markdown",
   "id": "834ad40a",
   "metadata": {},
   "source": [
    "In den unteren Schritten habe ich zum einen bei den draft years die \"NaN\" Werte gegen den Modus geechselt und zum anderen habe ich alle Reihen gelöscht, welche in den Collueges die Werte \"NaN\" besassen. Danach habe ich den Object Wert von den Collegues in einen float64 verwandelt."
   ]
  },
  {
   "cell_type": "code",
   "execution_count": 3,
   "id": "cb96445c",
   "metadata": {},
   "outputs": [
    {
     "name": "stdout",
     "output_type": "stream",
     "text": [
      "Requirement already satisfied: numpy in c:\\python310\\lib\\site-packages (1.22.3)\n"
     ]
    },
    {
     "name": "stderr",
     "output_type": "stream",
     "text": [
      "WARNING: Ignoring invalid distribution -p (c:\\python310\\lib\\site-packages)\n",
      "WARNING: Ignoring invalid distribution -p (c:\\python310\\lib\\site-packages)\n",
      "WARNING: Ignoring invalid distribution -ip (c:\\python310\\lib\\site-packages)\n",
      "WARNING: Ignoring invalid distribution - (c:\\python310\\lib\\site-packages)\n",
      "WARNING: Ignoring invalid distribution -p (c:\\python310\\lib\\site-packages)\n",
      "WARNING: Ignoring invalid distribution -p (c:\\python310\\lib\\site-packages)\n",
      "WARNING: Ignoring invalid distribution -ip (c:\\python310\\lib\\site-packages)\n",
      "WARNING: Ignoring invalid distribution - (c:\\python310\\lib\\site-packages)\n",
      "WARNING: Ignoring invalid distribution -p (c:\\python310\\lib\\site-packages)\n",
      "WARNING: Ignoring invalid distribution -p (c:\\python310\\lib\\site-packages)\n",
      "WARNING: Ignoring invalid distribution -ip (c:\\python310\\lib\\site-packages)\n",
      "WARNING: Ignoring invalid distribution - (c:\\python310\\lib\\site-packages)\n",
      "WARNING: Ignoring invalid distribution -p (c:\\python310\\lib\\site-packages)\n",
      "WARNING: Ignoring invalid distribution -p (c:\\python310\\lib\\site-packages)\n",
      "WARNING: Ignoring invalid distribution -ip (c:\\python310\\lib\\site-packages)\n",
      "WARNING: Ignoring invalid distribution - (c:\\python310\\lib\\site-packages)\n",
      "WARNING: Ignoring invalid distribution -p (c:\\python310\\lib\\site-packages)\n",
      "WARNING: Ignoring invalid distribution -p (c:\\python310\\lib\\site-packages)\n",
      "WARNING: Ignoring invalid distribution -ip (c:\\python310\\lib\\site-packages)\n",
      "WARNING: Ignoring invalid distribution - (c:\\python310\\lib\\site-packages)\n",
      "WARNING: Ignoring invalid distribution -p (c:\\python310\\lib\\site-packages)\n",
      "WARNING: Ignoring invalid distribution -p (c:\\python310\\lib\\site-packages)\n",
      "WARNING: Ignoring invalid distribution -ip (c:\\python310\\lib\\site-packages)\n",
      "WARNING: Ignoring invalid distribution - (c:\\python310\\lib\\site-packages)\n",
      "WARNING: You are using pip version 21.2.4; however, version 22.0.4 is available.\n",
      "You should consider upgrading via the 'C:\\Python310\\python.exe -m pip install --upgrade pip' command.\n"
     ]
    }
   ],
   "source": [
    "# NaN Werte behandeln\n",
    "!pip install numpy"
   ]
  },
  {
   "cell_type": "code",
   "execution_count": 4,
   "id": "9ee733c1",
   "metadata": {},
   "outputs": [],
   "source": [
    "# Die NaNs bei dem draft year habe ich auf den Modus geändert, damit man eine bessere hervorsage treffen kann.\n",
    "datasetNBA['draft year'].fillna(datasetNBA['draft year'].mode()[0], inplace=True)"
   ]
  },
  {
   "cell_type": "code",
   "execution_count": 5,
   "id": "5e785eba",
   "metadata": {},
   "outputs": [],
   "source": [
    "# Löschen alller Reihen, welche einen NaN Wert beinhalten (Es wurden 1000 Reihen gelöcht --> Einträge sind es immernoch weit über 10k)\n",
    "moddatasetNBA = datasetNBA.dropna()"
   ]
  },
  {
   "cell_type": "markdown",
   "id": "715d487a",
   "metadata": {},
   "source": [
    "Änderung von dem \"Collegue\" Datentyp zu einem float64."
   ]
  },
  {
   "cell_type": "code",
   "execution_count": 6,
   "id": "bee40328",
   "metadata": {},
   "outputs": [],
   "source": [
    "# hammer Viedo: https://www.youtube.com/watch?v=wnOdefa86Gw\n",
    "from sklearn.preprocessing import OrdinalEncoder"
   ]
  },
  {
   "cell_type": "code",
   "execution_count": 7,
   "id": "c6ccae9e",
   "metadata": {},
   "outputs": [],
   "source": [
    "enc = OrdinalEncoder()"
   ]
  },
  {
   "cell_type": "code",
   "execution_count": 8,
   "id": "6c322e2e",
   "metadata": {},
   "outputs": [
    {
     "data": {
      "text/plain": [
       "array([[ 61.],\n",
       "       [188.],\n",
       "       [114.],\n",
       "       ...,\n",
       "       [ 67.],\n",
       "       [119.],\n",
       "       [  9.]])"
      ]
     },
     "execution_count": 8,
     "metadata": {},
     "output_type": "execute_result"
    }
   ],
   "source": [
    "enc.fit_transform(moddatasetNBA[['Collegue']])"
   ]
  },
  {
   "cell_type": "code",
   "execution_count": 9,
   "id": "26861bb6",
   "metadata": {},
   "outputs": [
    {
     "name": "stderr",
     "output_type": "stream",
     "text": [
      "C:\\Users\\Luis Meister\\AppData\\Local\\Temp\\ipykernel_22568\\1806511289.py:1: SettingWithCopyWarning: \n",
      "A value is trying to be set on a copy of a slice from a DataFrame.\n",
      "Try using .loc[row_indexer,col_indexer] = value instead\n",
      "\n",
      "See the caveats in the documentation: https://pandas.pydata.org/pandas-docs/stable/user_guide/indexing.html#returning-a-view-versus-a-copy\n",
      "  moddatasetNBA[['Collegue']] = enc.fit_transform(moddatasetNBA[['Collegue']])\n"
     ]
    }
   ],
   "source": [
    "moddatasetNBA[['Collegue']] = enc.fit_transform(moddatasetNBA[['Collegue']])"
   ]
  },
  {
   "cell_type": "code",
   "execution_count": 10,
   "id": "289ee8f9",
   "metadata": {},
   "outputs": [
    {
     "data": {
      "text/html": [
       "<div>\n",
       "<style scoped>\n",
       "    .dataframe tbody tr th:only-of-type {\n",
       "        vertical-align: middle;\n",
       "    }\n",
       "\n",
       "    .dataframe tbody tr th {\n",
       "        vertical-align: top;\n",
       "    }\n",
       "\n",
       "    .dataframe thead th {\n",
       "        text-align: right;\n",
       "    }\n",
       "</style>\n",
       "<table border=\"1\" class=\"dataframe\">\n",
       "  <thead>\n",
       "    <tr style=\"text-align: right;\">\n",
       "      <th></th>\n",
       "      <th>Age</th>\n",
       "      <th>Height</th>\n",
       "      <th>Weight</th>\n",
       "      <th>Collegue</th>\n",
       "      <th>draft year</th>\n",
       "    </tr>\n",
       "  </thead>\n",
       "  <tbody>\n",
       "    <tr>\n",
       "      <th>0</th>\n",
       "      <td>22</td>\n",
       "      <td>213.36</td>\n",
       "      <td>106.59412</td>\n",
       "      <td>61.0</td>\n",
       "      <td>1996.0</td>\n",
       "    </tr>\n",
       "    <tr>\n",
       "      <th>1</th>\n",
       "      <td>27</td>\n",
       "      <td>210.82</td>\n",
       "      <td>106.59412</td>\n",
       "      <td>188.0</td>\n",
       "      <td>1992.0</td>\n",
       "    </tr>\n",
       "    <tr>\n",
       "      <th>2</th>\n",
       "      <td>30</td>\n",
       "      <td>208.28</td>\n",
       "      <td>106.59412</td>\n",
       "      <td>114.0</td>\n",
       "      <td>1998.0</td>\n",
       "    </tr>\n",
       "    <tr>\n",
       "      <th>3</th>\n",
       "      <td>29</td>\n",
       "      <td>210.82</td>\n",
       "      <td>111.13004</td>\n",
       "      <td>219.0</td>\n",
       "      <td>1998.0</td>\n",
       "    </tr>\n",
       "    <tr>\n",
       "      <th>5</th>\n",
       "      <td>22</td>\n",
       "      <td>198.12</td>\n",
       "      <td>102.05820</td>\n",
       "      <td>238.0</td>\n",
       "      <td>1995.0</td>\n",
       "    </tr>\n",
       "  </tbody>\n",
       "</table>\n",
       "</div>"
      ],
      "text/plain": [
       "   Age  Height     Weight  Collegue  draft year\n",
       "0   22  213.36  106.59412      61.0      1996.0\n",
       "1   27  210.82  106.59412     188.0      1992.0\n",
       "2   30  208.28  106.59412     114.0      1998.0\n",
       "3   29  210.82  111.13004     219.0      1998.0\n",
       "5   22  198.12  102.05820     238.0      1995.0"
      ]
     },
     "execution_count": 10,
     "metadata": {},
     "output_type": "execute_result"
    }
   ],
   "source": [
    "# Könnte man in einen Integer umwandeln.\n",
    "#moddatasetNBA.Collegue.astype(int)\n",
    "moddatasetNBA.head()"
   ]
  },
  {
   "cell_type": "markdown",
   "id": "31fdafe9",
   "metadata": {},
   "source": [
    "## Teil 3.1: *Test-train-split*\n"
   ]
  },
  {
   "cell_type": "code",
   "execution_count": 11,
   "id": "169748a2",
   "metadata": {},
   "outputs": [
    {
     "data": {
      "text/html": [
       "<div>\n",
       "<style scoped>\n",
       "    .dataframe tbody tr th:only-of-type {\n",
       "        vertical-align: middle;\n",
       "    }\n",
       "\n",
       "    .dataframe tbody tr th {\n",
       "        vertical-align: top;\n",
       "    }\n",
       "\n",
       "    .dataframe thead th {\n",
       "        text-align: right;\n",
       "    }\n",
       "</style>\n",
       "<table border=\"1\" class=\"dataframe\">\n",
       "  <thead>\n",
       "    <tr style=\"text-align: right;\">\n",
       "      <th></th>\n",
       "      <th>Age</th>\n",
       "      <th>Height</th>\n",
       "      <th>Weight</th>\n",
       "      <th>draft year</th>\n",
       "    </tr>\n",
       "  </thead>\n",
       "  <tbody>\n",
       "    <tr>\n",
       "      <th>0</th>\n",
       "      <td>22</td>\n",
       "      <td>213.36</td>\n",
       "      <td>106.59412</td>\n",
       "      <td>1996.0</td>\n",
       "    </tr>\n",
       "    <tr>\n",
       "      <th>1</th>\n",
       "      <td>27</td>\n",
       "      <td>210.82</td>\n",
       "      <td>106.59412</td>\n",
       "      <td>1992.0</td>\n",
       "    </tr>\n",
       "    <tr>\n",
       "      <th>2</th>\n",
       "      <td>30</td>\n",
       "      <td>208.28</td>\n",
       "      <td>106.59412</td>\n",
       "      <td>1998.0</td>\n",
       "    </tr>\n",
       "    <tr>\n",
       "      <th>3</th>\n",
       "      <td>29</td>\n",
       "      <td>210.82</td>\n",
       "      <td>111.13004</td>\n",
       "      <td>1998.0</td>\n",
       "    </tr>\n",
       "    <tr>\n",
       "      <th>5</th>\n",
       "      <td>22</td>\n",
       "      <td>198.12</td>\n",
       "      <td>102.05820</td>\n",
       "      <td>1995.0</td>\n",
       "    </tr>\n",
       "  </tbody>\n",
       "</table>\n",
       "</div>"
      ],
      "text/plain": [
       "   Age  Height     Weight  draft year\n",
       "0   22  213.36  106.59412      1996.0\n",
       "1   27  210.82  106.59412      1992.0\n",
       "2   30  208.28  106.59412      1998.0\n",
       "3   29  210.82  111.13004      1998.0\n",
       "5   22  198.12  102.05820      1995.0"
      ]
     },
     "execution_count": 11,
     "metadata": {},
     "output_type": "execute_result"
    }
   ],
   "source": [
    "# Features und Targets bestimmen\n",
    "X = moddatasetNBA[[\"Age\", \"Height\", \"Weight\", \"draft year\"]]\n",
    "y = moddatasetNBA[[\"Collegue\"]]\n",
    "X.head()\n"
   ]
  },
  {
   "cell_type": "code",
   "execution_count": 12,
   "id": "8cbf6862",
   "metadata": {},
   "outputs": [],
   "source": [
    "from sklearn.model_selection import train_test_split\n",
    "X_train, X_test, y_train, y_test = train_test_split(\n",
    "   X, y, test_size = 0.2, random_state = 42\n",
    ")"
   ]
  },
  {
   "cell_type": "code",
   "execution_count": 13,
   "id": "c5bddcf5",
   "metadata": {},
   "outputs": [
    {
     "data": {
      "text/plain": [
       "(7988, 1997)"
      ]
     },
     "execution_count": 13,
     "metadata": {},
     "output_type": "execute_result"
    }
   ],
   "source": [
    "len(X_train), len(X_test)"
   ]
  },
  {
   "cell_type": "markdown",
   "id": "a920ef3e",
   "metadata": {},
   "source": [
    "# Aufgabe 3.2) *Algorithmus*"
   ]
  },
  {
   "cell_type": "markdown",
   "id": "060ad239",
   "metadata": {},
   "source": [
    "Classification\n",
    "Diese Algorithmen lohnen sich nicht fèr mein üroblem. Ich benétige keine Classification Algorithmen, sondern Regression Algorithmen"
   ]
  },
  {
   "cell_type": "markdown",
   "id": "1a60a8b5",
   "metadata": {
    "collapsed": true
   },
   "source": [
    "from sklearn.neural_network import MLPClassifier\n",
    "from sklearn.neighbors import KNeighborsClassifier\n",
    "from sklearn.linear_model import SGDClassifier\n",
    "from sklearn.svm import SVC\n",
    "from sklearn.gaussian_process import GaussianProcessClassifier\n",
    "from sklearn.tree import DecisionTreeClassifier\n",
    "from sklearn.ensemble import RandomForestClassifier\n",
    "from sklearn.naive_bayes import GaussianNB\n",
    "from sklearn.discriminant_analysis import LinearDiscriminantAnalysis\n",
    "from sklearn.dummy import DummyClassifier\n",
    "from sklearn.linear_model import LogisticRegression, SGDClassifier\n",
    "from sklearn.ensemble import ExtraTreesClassifier, GradientBoostingClassifier\n",
    "from sklearn.ensemble import RandomForestClassifier\n",
    "from sklearn.naive_bayes import MultinomialNB\n",
    "\n",
    "\n",
    "algorithms = {\n",
    "    \"Nearest Neighbors\" : KNeighborsClassifier(1), \n",
    "    \"Decision Tree\" : DecisionTreeClassifier(max_depth=20), \n",
    "    \"Random Forest\" : RandomForestClassifier(max_depth=45, n_estimators=30, max_features=1),\n",
    "    \"Neural Net\" : MLPClassifier(alpha=1, max_iter=10), \n",
    "    \"Naive Bayes\" : GaussianNB(), \n",
    "    \"LDA\" : LinearDiscriminantAnalysis(),\n",
    "}\n",
    "\n",
    "\n",
    "for name, algorithm in algorithms.items():\n",
    "\n",
    "    algorithm.fit(X_train, y_train.values.ravel())\n",
    "\n",
    "    score = algorithm.score(X_test, y_test)\n",
    "    print(name, round(score,2))"
   ]
  },
  {
   "cell_type": "markdown",
   "id": "7ce304e2",
   "metadata": {},
   "source": [
    "# Regression"
   ]
  },
  {
   "cell_type": "markdown",
   "id": "270b5d53",
   "metadata": {},
   "source": [
    "Da ich mit Zahlenwerten arbeite, welche nicht klassifiziert werden müssen, habe ich die «Classification» Algorithmen einmal bereits ausgeschlossen. Ich habe so viele «Regression» Algorithmen wie möglich gesucht und diese dann in Jupyter importiert. Danach habe mir je einen Zahlenwert ausgeben lassen, wobei der höchste Wert, den genausten Algorithmus besitzt. Also habe ich die erhaltenen Zahlen evaluiert und so konnte ich den genausten Algorithmus auswählen, welcher der «RandomForestRegressor»-Algorithmus war. Dieser Algorithmus verwendet eine Reihe von klassifizierten Entscheidungsbäume, welche den Datensatz überprüfen und anschliessend den besten Wert herausgeben. (in meinem Fall 0.52-0.53)"
   ]
  },
  {
   "cell_type": "markdown",
   "id": "cd30c859",
   "metadata": {},
   "source": [
    "Wie bereits in der letzten Teilaufgabe 2.2 erklärt, muss ich meine Daten nicht skalieren. Dies gilt natürlich auch für meinen Algorithmus"
   ]
  },
  {
   "cell_type": "code",
   "execution_count": 14,
   "id": "5375f911",
   "metadata": {},
   "outputs": [
    {
     "name": "stderr",
     "output_type": "stream",
     "text": [
      "C:\\Python310\\lib\\site-packages\\xgboost\\compat.py:36: FutureWarning: pandas.Int64Index is deprecated and will be removed from pandas in a future version. Use pandas.Index with the appropriate dtype instead.\n",
      "  from pandas import MultiIndex, Int64Index\n"
     ]
    },
    {
     "name": "stdout",
     "output_type": "stream",
     "text": [
      "LinearRegression 0.0\n"
     ]
    },
    {
     "name": "stderr",
     "output_type": "stream",
     "text": [
      "C:\\Python310\\lib\\site-packages\\sklearn\\linear_model\\_logistic.py:814: ConvergenceWarning: lbfgs failed to converge (status=1):\n",
      "STOP: TOTAL NO. of ITERATIONS REACHED LIMIT.\n",
      "\n",
      "Increase the number of iterations (max_iter) or scale the data as shown in:\n",
      "    https://scikit-learn.org/stable/modules/preprocessing.html\n",
      "Please also refer to the documentation for alternative solver options:\n",
      "    https://scikit-learn.org/stable/modules/linear_model.html#logistic-regression\n",
      "  n_iter_i = _check_optimize_result(\n",
      "C:\\Python310\\lib\\site-packages\\xgboost\\data.py:262: FutureWarning: pandas.Int64Index is deprecated and will be removed from pandas in a future version. Use pandas.Index with the appropriate dtype instead.\n",
      "  elif isinstance(data.columns, (pd.Int64Index, pd.RangeIndex)):\n"
     ]
    },
    {
     "name": "stdout",
     "output_type": "stream",
     "text": [
      "LogisticRegression 0.04\n",
      "LGBMRegressor 0.29\n",
      "XGBRegressor 0.44\n",
      "SGDRegressor -1.149686332974506e+26\n",
      "GradientBoostingRegressor 0.09\n",
      "DecisionTreeRegressor 0.27\n",
      "RandomForestRegressor 0.53\n"
     ]
    }
   ],
   "source": [
    "from sklearn.linear_model import LinearRegression\n",
    "from sklearn.linear_model import LogisticRegression\n",
    "from lightgbm import LGBMRegressor\n",
    "from xgboost.sklearn import XGBRegressor\n",
    "from catboost import CatBoostRegressor\n",
    "from sklearn.linear_model import SGDRegressor\n",
    "from sklearn.linear_model import ElasticNet\n",
    "from sklearn.linear_model import BayesianRidge\n",
    "from sklearn.ensemble import GradientBoostingRegressor\n",
    "from sklearn.svm import SVR\n",
    "from sklearn.tree import DecisionTreeRegressor\n",
    "from sklearn.ensemble import RandomForestRegressor\n",
    "\n",
    "algorithms = {\n",
    "    \"LinearRegression\" : LinearRegression(), \n",
    "    \"LogisticRegression\" : LogisticRegression(random_state=0),\n",
    "    \"LGBMRegressor\" : LGBMRegressor(), \n",
    "    \"XGBRegressor\" : XGBRegressor(), \n",
    "#   \"CatBoostRegressor\" : CatBoostRegressor(), \n",
    "    \"SGDRegressor\" : SGDRegressor(max_iter=1000),  \n",
    "    \"GradientBoostingRegressor\" : GradientBoostingRegressor(), \n",
    "    \"DecisionTreeRegressor\" : DecisionTreeRegressor(max_depth=30),\n",
    "    \"RandomForestRegressor\" : RandomForestRegressor(max_depth=45, random_state=0),\n",
    "\n",
    "\n",
    "}\n",
    "\n",
    "for name, algorithm in algorithms.items():\n",
    "\n",
    "    algorithm.fit(X_train, y_train.values.ravel())\n",
    "    score = algorithm.score(X_test, y_test)\n",
    "    print(name, round(score,2))"
   ]
  },
  {
   "cell_type": "markdown",
   "id": "ff649174",
   "metadata": {},
   "source": [
    "Hier unten befindet sich mein ausgewählter Algorithmus. Ebenso wird auch bereits im unteren Teil ein Modell berechnet bzw. trainiert. (Aufgabe 3.2) "
   ]
  },
  {
   "cell_type": "code",
   "execution_count": 15,
   "id": "9f2d293d",
   "metadata": {},
   "outputs": [
    {
     "name": "stdout",
     "output_type": "stream",
     "text": [
      "Random Forest Regressor 0.53\n"
     ]
    }
   ],
   "source": [
    "from sklearn.ensemble import RandomForestRegressor\n",
    "\n",
    "algorithms = {\n",
    "    \"Random Forest Regressor\" : RandomForestRegressor(max_depth=35, random_state=0),\n",
    "}\n",
    "\n",
    "for name, algorithm in algorithms.items():\n",
    "\n",
    "    algorithm.fit(X_train, y_train.values.ravel())\n",
    "\n",
    "    score = algorithm.score(X_test, y_test)\n",
    "    print(name, round(score,2))"
   ]
  },
  {
   "cell_type": "markdown",
   "id": "579cd548",
   "metadata": {},
   "source": [
    "Im oberen Beispiel sehen sie die Berechnung von einem Modell, welche die Genauigkeit des Algorithmus anzeigt.\n",
    "Nun kommt die Speicherung an die Reihe"
   ]
  },
  {
   "cell_type": "code",
   "execution_count": 16,
   "id": "a7d2ef93",
   "metadata": {},
   "outputs": [
    {
     "data": {
      "text/plain": [
       "RandomForestRegressor(max_depth=35, random_state=0)"
      ]
     },
     "execution_count": 16,
     "metadata": {},
     "output_type": "execute_result"
    }
   ],
   "source": [
    "import joblib\n",
    "joblib.dump(algorithms[\"Random Forest Regressor\"], 'datasetNBAA.joblib')\n",
    "best_model = joblib.load('datasetNBAA.joblib')\n",
    "best_model"
   ]
  },
  {
   "cell_type": "markdown",
   "id": "2093374d",
   "metadata": {},
   "source": [
    "# Aufgabe 3.3)"
   ]
  },
  {
   "cell_type": "code",
   "execution_count": 17,
   "id": "ea515144",
   "metadata": {},
   "outputs": [
    {
     "data": {
      "text/html": [
       "<div>\n",
       "<style scoped>\n",
       "    .dataframe tbody tr th:only-of-type {\n",
       "        vertical-align: middle;\n",
       "    }\n",
       "\n",
       "    .dataframe tbody tr th {\n",
       "        vertical-align: top;\n",
       "    }\n",
       "\n",
       "    .dataframe thead th {\n",
       "        text-align: right;\n",
       "    }\n",
       "</style>\n",
       "<table border=\"1\" class=\"dataframe\">\n",
       "  <thead>\n",
       "    <tr style=\"text-align: right;\">\n",
       "      <th></th>\n",
       "      <th>Age</th>\n",
       "      <th>Height</th>\n",
       "      <th>Weight</th>\n",
       "      <th>draft year</th>\n",
       "    </tr>\n",
       "  </thead>\n",
       "  <tbody>\n",
       "    <tr>\n",
       "      <th>0</th>\n",
       "      <td>22</td>\n",
       "      <td>213.36</td>\n",
       "      <td>106.59412</td>\n",
       "      <td>1996.0</td>\n",
       "    </tr>\n",
       "    <tr>\n",
       "      <th>1</th>\n",
       "      <td>27</td>\n",
       "      <td>210.82</td>\n",
       "      <td>106.59412</td>\n",
       "      <td>1992.0</td>\n",
       "    </tr>\n",
       "    <tr>\n",
       "      <th>2</th>\n",
       "      <td>30</td>\n",
       "      <td>208.28</td>\n",
       "      <td>106.59412</td>\n",
       "      <td>1998.0</td>\n",
       "    </tr>\n",
       "    <tr>\n",
       "      <th>3</th>\n",
       "      <td>29</td>\n",
       "      <td>210.82</td>\n",
       "      <td>111.13004</td>\n",
       "      <td>1998.0</td>\n",
       "    </tr>\n",
       "    <tr>\n",
       "      <th>5</th>\n",
       "      <td>22</td>\n",
       "      <td>198.12</td>\n",
       "      <td>102.05820</td>\n",
       "      <td>1995.0</td>\n",
       "    </tr>\n",
       "  </tbody>\n",
       "</table>\n",
       "</div>"
      ],
      "text/plain": [
       "   Age  Height     Weight  draft year\n",
       "0   22  213.36  106.59412      1996.0\n",
       "1   27  210.82  106.59412      1992.0\n",
       "2   30  208.28  106.59412      1998.0\n",
       "3   29  210.82  111.13004      1998.0\n",
       "5   22  198.12  102.05820      1995.0"
      ]
     },
     "execution_count": 17,
     "metadata": {},
     "output_type": "execute_result"
    }
   ],
   "source": [
    "# Features und Targets bestimmen\n",
    "X = moddatasetNBA[[\"Age\", \"Height\", \"Weight\", \"draft year\"]]\n",
    "y = moddatasetNBA[[\"Collegue\"]]\n",
    "X.head()\n"
   ]
  },
  {
   "cell_type": "code",
   "execution_count": 18,
   "id": "c9160984",
   "metadata": {},
   "outputs": [],
   "source": [
    "from sklearn.model_selection import train_test_split\n",
    "X_train, X_test, y_train, y_test = train_test_split(\n",
    "   X, y, test_size = 0.2, random_state = 42\n",
    ")"
   ]
  },
  {
   "cell_type": "markdown",
   "id": "6c0951b0",
   "metadata": {},
   "source": [
    "## Testfälle"
   ]
  },
  {
   "cell_type": "markdown",
   "id": "094fd6ee",
   "metadata": {},
   "source": [
    "In der unteren Box können Sie 4 Testfälle sehen. Sie können den jeweiligen Testfall auskommentieren und dann alle Befehle bis zur Lösung hin ausführen."
   ]
  },
  {
   "cell_type": "code",
   "execution_count": 19,
   "id": "d003d484",
   "metadata": {},
   "outputs": [],
   "source": [
    "#SpielerNeu1 = pd.DataFrame([[22, 213.36, 106.59412, 1996]], columns=X_train.columns)\n",
    "#SpielerNeu1 = pd.DataFrame([[36, 208.28, 111.583632, 1983]], columns=X_train.columns)\n",
    "SpielerNeu1 = pd.DataFrame([[32, 190.5, 83.91452, 1987]], columns=X_train.columns)\n",
    "#SpielerNeu1 = pd.DataFrame([[33, 182.88, 81.64656, 1986]], columns=X_train.columns)"
   ]
  },
  {
   "cell_type": "code",
   "execution_count": 20,
   "id": "26a21191",
   "metadata": {
    "scrolled": true
   },
   "outputs": [
    {
     "name": "stdout",
     "output_type": "stream",
     "text": [
      "202.24 SpielerNeu1\n"
     ]
    }
   ],
   "source": [
    "predictions = best_model.predict(pd.concat([SpielerNeu1]))\n",
    "for person, prediction in zip([\"SpielerNeu1\"], predictions):\n",
    "    print(prediction, person)"
   ]
  },
  {
   "cell_type": "code",
   "execution_count": 21,
   "id": "d2138514",
   "metadata": {},
   "outputs": [],
   "source": [
    "import numpy as np\n",
    "def find_nearest(array, value):\n",
    "    array = np.asarray(array)\n",
    "    idx = (np.abs(array - value)).argmin()\n",
    "    return array[idx]"
   ]
  },
  {
   "cell_type": "code",
   "execution_count": 22,
   "id": "2ae1445f",
   "metadata": {},
   "outputs": [],
   "source": [
    "\n",
    "    predictionInNumber = find_nearest(moddatasetNBA['Collegue'], prediction)"
   ]
  },
  {
   "cell_type": "code",
   "execution_count": 23,
   "id": "12cbdf66",
   "metadata": {},
   "outputs": [
    {
     "data": {
      "text/html": [
       "<div>\n",
       "<style scoped>\n",
       "    .dataframe tbody tr th:only-of-type {\n",
       "        vertical-align: middle;\n",
       "    }\n",
       "\n",
       "    .dataframe tbody tr th {\n",
       "        vertical-align: top;\n",
       "    }\n",
       "\n",
       "    .dataframe thead th {\n",
       "        text-align: right;\n",
       "    }\n",
       "</style>\n",
       "<table border=\"1\" class=\"dataframe\">\n",
       "  <thead>\n",
       "    <tr style=\"text-align: right;\">\n",
       "      <th></th>\n",
       "      <th>Number</th>\n",
       "      <th>Collegue</th>\n",
       "    </tr>\n",
       "  </thead>\n",
       "  <tbody>\n",
       "    <tr>\n",
       "      <th>0</th>\n",
       "      <td>61</td>\n",
       "      <td>Connecticut</td>\n",
       "    </tr>\n",
       "    <tr>\n",
       "      <th>1</th>\n",
       "      <td>188</td>\n",
       "      <td>North Carolina-Wilmington</td>\n",
       "    </tr>\n",
       "    <tr>\n",
       "      <th>2</th>\n",
       "      <td>114</td>\n",
       "      <td>Iowa</td>\n",
       "    </tr>\n",
       "    <tr>\n",
       "      <th>3</th>\n",
       "      <td>219</td>\n",
       "      <td>Providence</td>\n",
       "    </tr>\n",
       "    <tr>\n",
       "      <th>4</th>\n",
       "      <td>238</td>\n",
       "      <td>Seward County Community College</td>\n",
       "    </tr>\n",
       "    <tr>\n",
       "      <th>5</th>\n",
       "      <td>206</td>\n",
       "      <td>Old Dominion</td>\n",
       "    </tr>\n",
       "    <tr>\n",
       "      <th>6</th>\n",
       "      <td>267</td>\n",
       "      <td>Temple</td>\n",
       "    </tr>\n",
       "    <tr>\n",
       "      <th>7</th>\n",
       "      <td>95</td>\n",
       "      <td>Georgia Tech</td>\n",
       "    </tr>\n",
       "    <tr>\n",
       "      <th>8</th>\n",
       "      <td>255</td>\n",
       "      <td>St. John's (NY)</td>\n",
       "    </tr>\n",
       "    <tr>\n",
       "      <th>9</th>\n",
       "      <td>314</td>\n",
       "      <td>Washington State</td>\n",
       "    </tr>\n",
       "    <tr>\n",
       "      <th>10</th>\n",
       "      <td>277</td>\n",
       "      <td>Texas Tech</td>\n",
       "    </tr>\n",
       "  </tbody>\n",
       "</table>\n",
       "</div>"
      ],
      "text/plain": [
       "    Number                         Collegue\n",
       "0       61                      Connecticut\n",
       "1      188        North Carolina-Wilmington\n",
       "2      114                             Iowa\n",
       "3      219                       Providence\n",
       "4      238  Seward County Community College\n",
       "5      206                     Old Dominion\n",
       "6      267                           Temple\n",
       "7       95                     Georgia Tech\n",
       "8      255                  St. John's (NY)\n",
       "9      314                 Washington State\n",
       "10     277                       Texas Tech"
      ]
     },
     "execution_count": 23,
     "metadata": {},
     "output_type": "execute_result"
    }
   ],
   "source": [
    "import pandas as pd\n",
    "datasetCollegue = pd.read_csv(\"259_Database_Collegue_To_Number.csv\", on_bad_lines=\"skip\", sep=';')\n",
    "datasetCollegue.head(11)"
   ]
  },
  {
   "cell_type": "code",
   "execution_count": 24,
   "id": "fdd341ed",
   "metadata": {},
   "outputs": [],
   "source": [
    "datasetCollegue.drop_duplicates(inplace = True)"
   ]
  },
  {
   "cell_type": "code",
   "execution_count": 25,
   "id": "47f47d98",
   "metadata": {
    "scrolled": true
   },
   "outputs": [],
   "source": [
    "\n",
    "datasetCollegue = datasetCollegue.loc[datasetCollegue['Number'] == predictionInNumber]"
   ]
  },
  {
   "cell_type": "code",
   "execution_count": 26,
   "id": "8cd7fd70",
   "metadata": {},
   "outputs": [],
   "source": [
    "CollegueSimilarToNumber = datasetCollegue['Collegue']\n"
   ]
  },
  {
   "cell_type": "markdown",
   "id": "c82d04ea",
   "metadata": {},
   "source": [
    "# Lösung"
   ]
  },
  {
   "cell_type": "markdown",
   "id": "4d4056e0",
   "metadata": {},
   "source": [
    "Hier steht das Ergebnis von Ihrem ausgewählten Spieler."
   ]
  },
  {
   "cell_type": "code",
   "execution_count": 27,
   "id": "a3004ad5",
   "metadata": {
    "scrolled": true
   },
   "outputs": [
    {
     "name": "stdout",
     "output_type": "stream",
     "text": [
      "75    SpielerNeu1 geht in das Ohio State Collegue.\n",
      "Name: Collegue, dtype: object\n"
     ]
    }
   ],
   "source": [
    "print(person +' geht in das ' + CollegueSimilarToNumber + ' Collegue.')"
   ]
  },
  {
   "cell_type": "markdown",
   "id": "e8ff362d",
   "metadata": {},
   "source": [
    "### Eignung"
   ]
  },
  {
   "cell_type": "markdown",
   "id": "e9f70c86",
   "metadata": {},
   "source": [
    "Erstaunlicherweise funktionniert mein Algorithmus gar nicht mal so schlecht. Ich habe jeweils aus meiner Excel Datei die Parameter in den Algorithmus 1 zu 1 mitgegeben und das Predictionresultat, welches eine float Zahl von dem College war, hatte eine Differenz zur originalen Zahl von nur 10. Die Zahlen wurden anschliessend gerundet und dem passenden College zugeordnet. Je nachdem wie gerundet wurde, kam manchmal der Fall hervor, dass das originale College als Lösung herauskam. Die Prediction stimmt sicher zu 25 Prozent oder auch höher und ich finde dies ein ziemlich gutes Ergebnis"
   ]
  },
  {
   "cell_type": "code",
   "execution_count": null,
   "id": "0f26af6b",
   "metadata": {},
   "outputs": [],
   "source": []
  }
 ],
 "metadata": {
  "kernelspec": {
   "display_name": "Python 3 (ipykernel)",
   "language": "python",
   "name": "python3"
  },
  "language_info": {
   "codemirror_mode": {
    "name": "ipython",
    "version": 3
   },
   "file_extension": ".py",
   "mimetype": "text/x-python",
   "name": "python",
   "nbconvert_exporter": "python",
   "pygments_lexer": "ipython3",
   "version": "3.10.2"
  }
 },
 "nbformat": 4,
 "nbformat_minor": 5
}
